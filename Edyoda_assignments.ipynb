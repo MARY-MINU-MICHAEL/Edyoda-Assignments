{
  "nbformat": 4,
  "nbformat_minor": 0,
  "metadata": {
    "colab": {
      "provenance": []
    },
    "kernelspec": {
      "name": "python3",
      "display_name": "Python 3"
    },
    "language_info": {
      "name": "python"
    }
  },
  "cells": [
    {
      "cell_type": "code",
      "source": [
        "n1,n2=0,1\n",
        "\n",
        "while(n1<50):\n",
        "  print(n1,end=\"  \")\n",
        "  r=n1+n2\n",
        "  n1=n2\n",
        "  n2=r"
      ],
      "metadata": {
        "colab": {
          "base_uri": "https://localhost:8080/"
        },
        "id": "FmjEKMMaaOPM",
        "outputId": "14ae6296-26a2-458c-e488-102c30c5b5a3"
      },
      "execution_count": 19,
      "outputs": [
        {
          "output_type": "stream",
          "name": "stdout",
          "text": [
            "0  1  1  2  3  5  8  13  21  34  "
          ]
        }
      ]
    }
  ]
}