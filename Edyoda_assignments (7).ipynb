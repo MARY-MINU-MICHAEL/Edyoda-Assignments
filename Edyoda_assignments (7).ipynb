{
  "nbformat": 4,
  "nbformat_minor": 0,
  "metadata": {
    "colab": {
      "provenance": []
    },
    "kernelspec": {
      "name": "python3",
      "display_name": "Python 3"
    },
    "language_info": {
      "name": "python"
    }
  },
  "cells": [
    {
      "cell_type": "code",
      "source": [
        "l=[8, 2, 3, 0, 7]\n",
        "\n",
        "def sum(l):\n",
        "  sum=0\n",
        "  for i in l:\n",
        "    sum=sum+i\n",
        "    \n",
        "  return sum\n",
        "m=sum([8, 2, 3, 0, 7])\n",
        "for i in range(len(l)):\n",
        "  print(l[i], end ='+ ' )\n",
        "print('=',m)"
      ],
      "metadata": {
        "colab": {
          "base_uri": "https://localhost:8080/"
        },
        "id": "a9XEcRwajhBp",
        "outputId": "62584d31-1307-4428-f7d0-d609a699c049"
      },
      "execution_count": 62,
      "outputs": [
        {
          "output_type": "stream",
          "name": "stdout",
          "text": [
            "8+ 2+ 3+ 0+ 7+ = 20\n"
          ]
        }
      ]
    }
  ]
}