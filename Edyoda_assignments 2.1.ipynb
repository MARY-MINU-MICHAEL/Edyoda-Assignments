{
  "nbformat": 4,
  "nbformat_minor": 0,
  "metadata": {
    "colab": {
      "provenance": []
    },
    "kernelspec": {
      "name": "python3",
      "display_name": "Python 3"
    },
    "language_info": {
      "name": "python"
    }
  },
  "cells": [
    {
      "cell_type": "code",
      "source": [
        "#Write a Python program to get a list, sorted in increasing order by the last element in each tuple from a given list of non-empty tuples\n",
        "l=[(2, 5), (1, 2), (4, 4), (2, 3), (2, 1)]\n",
        "l1 = len(l)\n",
        "for i in range(0, l1):\n",
        "  for j in range(0, l1-i-1):\n",
        "    if (l[j][1] > l[j + 1][1]):\n",
        "      temp = l[j]\n",
        "      l[j] = l[j + 1]\n",
        "      l[j + 1] = temp\n",
        "print(l)"
      ],
      "metadata": {
        "colab": {
          "base_uri": "https://localhost:8080/"
        },
        "id": "KQVvptDrTfhP",
        "outputId": "71392822-c6e8-49db-bb2b-dd71721e5af1"
      },
      "execution_count": null,
      "outputs": [
        {
          "output_type": "stream",
          "name": "stdout",
          "text": [
            "[(2, 1), (1, 2), (2, 3), (4, 4), (2, 5)]\n"
          ]
        }
      ]
    }
  ]
}
