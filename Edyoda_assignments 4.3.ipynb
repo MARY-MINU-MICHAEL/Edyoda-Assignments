{
  "nbformat": 4,
  "nbformat_minor": 0,
  "metadata": {
    "colab": {
      "provenance": []
    },
    "kernelspec": {
      "name": "python3",
      "display_name": "Python 3"
    },
    "language_info": {
      "name": "python"
    }
  },
  "cells": [
    {
      "cell_type": "markdown",
      "source": [
        "Write a Python program to square the elements of a list using map() function."
      ],
      "metadata": {
        "id": "SbxDnyORNJzb"
      }
    },
    {
      "cell_type": "code",
      "source": [
        "l=[]\n",
        "a=int(input('Enter number of elements in list:'))\n",
        "for i in range(a):\n",
        "  l.append(int(input()))\n",
        "print(l)"
      ],
      "metadata": {
        "id": "p_K5F0vbGXjz",
        "colab": {
          "base_uri": "https://localhost:8080/"
        },
        "outputId": "c2eb852f-0564-4b63-9df1-88bd1fae28c3"
      },
      "execution_count": 20,
      "outputs": [
        {
          "output_type": "stream",
          "name": "stdout",
          "text": [
            "Enter number of elements in list:4\n",
            "4\n",
            "5\n",
            "2\n",
            "9\n",
            "[4, 5, 2, 9]\n"
          ]
        }
      ]
    },
    {
      "cell_type": "code",
      "source": [
        "def square(x):\n",
        "  y=x**2\n",
        "  return y"
      ],
      "metadata": {
        "id": "m1w3JAPsK-5Z"
      },
      "execution_count": 21,
      "outputs": []
    },
    {
      "cell_type": "code",
      "source": [
        "b=list(map(square,l))\n",
        "print(b)"
      ],
      "metadata": {
        "colab": {
          "base_uri": "https://localhost:8080/"
        },
        "id": "4c0GQSpCMUM-",
        "outputId": "40f0a4e6-59f7-40d9-f70e-c1252ab3a2b1"
      },
      "execution_count": 23,
      "outputs": [
        {
          "output_type": "stream",
          "name": "stdout",
          "text": [
            "[16, 25, 4, 81]\n"
          ]
        }
      ]
    }
  ]
}
