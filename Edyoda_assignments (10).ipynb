{
  "nbformat": 4,
  "nbformat_minor": 0,
  "metadata": {
    "colab": {
      "provenance": []
    },
    "kernelspec": {
      "name": "python3",
      "display_name": "Python 3"
    },
    "language_info": {
      "name": "python"
    }
  },
  "cells": [
    {
      "cell_type": "code",
      "source": [
        "# Write a Python function to sum all the numbers in a list.\n",
        "\n",
        "def sum(l):\n",
        "    s=0\n",
        "    for i in l:\n",
        "        s=s+i\n",
        "    for i in range(len(l)):\n",
        "          print(l[i], end =' + ' )\n",
        "    print('=',s)\n",
        "   \n",
        "sum([8, 2, 3, 0, 7])"
      ],
      "metadata": {
        "colab": {
          "base_uri": "https://localhost:8080/"
        },
        "id": "UklY9osTxaU4",
        "outputId": "94ad3027-aa94-4808-ec74-957bc1b954cd"
      },
      "execution_count": 118,
      "outputs": [
        {
          "output_type": "stream",
          "name": "stdout",
          "text": [
            "8 + 2 + 3 + 0 + 7 + = 20\n"
          ]
        }
      ]
    }
  ]
}