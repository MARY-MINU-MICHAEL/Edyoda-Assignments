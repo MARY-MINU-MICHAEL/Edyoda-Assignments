{
  "nbformat": 4,
  "nbformat_minor": 0,
  "metadata": {
    "colab": {
      "provenance": []
    },
    "kernelspec": {
      "name": "python3",
      "display_name": "Python 3"
    },
    "language_info": {
      "name": "python"
    }
  },
  "cells": [
    {
      "cell_type": "code",
      "source": [
        "#Write a Python function that accepts a string and calculate the number of upper case letters and lower case letters.\n",
        "s=input('Enter a string: ')\n",
        "def cases(s):\n",
        "  capital=0\n",
        "  small=0\n",
        "\n",
        "  for i in s:\n",
        "      if i.isupper()==True:\n",
        "        capital=capital+1\n",
        "      elif i.islower()==True:\n",
        "        small=small+1\n",
        "       \n",
        "  print( ' No. of Upper case characters :',capital,'\\n','No. of Lower case Characters :',small)\n",
        "cases(s)"
      ],
      "metadata": {
        "colab": {
          "base_uri": "https://localhost:8080/"
        },
        "id": "EOiLlrN17rNz",
        "outputId": "1759b3ef-2398-48c6-b9e6-de0de939011f"
      },
      "execution_count": 166,
      "outputs": [
        {
          "output_type": "stream",
          "name": "stdout",
          "text": [
            "Enter a string: The quick Brow Fox\n",
            " No. of Upper case characters : 3 \n",
            " No. of Lower case Characters : 12\n"
          ]
        }
      ]
    }
  ]
}
