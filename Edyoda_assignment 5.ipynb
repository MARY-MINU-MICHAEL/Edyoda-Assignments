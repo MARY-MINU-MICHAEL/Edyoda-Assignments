{
  "nbformat": 4,
  "nbformat_minor": 0,
  "metadata": {
    "colab": {
      "provenance": []
    },
    "kernelspec": {
      "name": "python3",
      "display_name": "Python 3"
    },
    "language_info": {
      "name": "python"
    }
  },
  "cells": [
    {
      "cell_type": "markdown",
      "source": [
        "# **Challenge 1: Square Numbers and Return Their Sum**"
      ],
      "metadata": {
        "id": "IV8JlXqIZi0Q"
      }
    },
    {
      "cell_type": "code",
      "source": [
        "class Point:\n",
        "\n",
        "    def __init__(self,x,y,z):\n",
        "        self.x = x\n",
        "        self.y = y\n",
        "        self.z = z\n",
        "\n",
        "    def sqSum(self):\n",
        "        sum=self.x**2+self.y**2+self.z**2\n",
        "        return sum\n",
        "        pass\n",
        "\n",
        "n1=int(input('Enter 1st number:'))\n",
        "n2=int(input('Enter 2nd number:'))\n",
        "n3=int(input('Enter 3rd number:'))\n",
        "obj=Point(n1,n2,n3)\n",
        "obj.sqSum()\n"
      ],
      "metadata": {
        "colab": {
          "base_uri": "https://localhost:8080/"
        },
        "id": "5hr5FyA2ZcYf",
        "outputId": "7cc842d9-ec80-4ce6-9c12-3304cafe8288"
      },
      "execution_count": null,
      "outputs": [
        {
          "name": "stdout",
          "output_type": "stream",
          "text": [
            "Enter 1st number:1\n",
            "Enter 2nd number:3\n",
            "Enter 3rd number:5\n"
          ]
        },
        {
          "output_type": "execute_result",
          "data": {
            "text/plain": [
              "35"
            ]
          },
          "metadata": {},
          "execution_count": 31
        }
      ]
    },
    {
      "cell_type": "markdown",
      "source": [
        "# **Challenge 2: Implement a Calculator Class**"
      ],
      "metadata": {
        "id": "d5m_rL8Db3qL"
      }
    },
    {
      "cell_type": "code",
      "source": [
        "class Calculator:\n",
        "\n",
        "    def __init__(self,num1,num2):\n",
        "        self.num1=num1\n",
        "        self.num2=num2\n",
        "        pass\n",
        "    def add(self):\n",
        "        sum=self.num1+self.num2\n",
        "        print(sum)\n",
        "        pass\n",
        "    def subtract(self):\n",
        "        diff=self.num2-self.num1\n",
        "        print(diff)\n",
        "        pass\n",
        "    def multiply(self):\n",
        "        pro=self.num1*self.num2\n",
        "        print(pro)\n",
        "        pass\n",
        "    def divide(self):\n",
        "        div=self.num2/self.num1\n",
        "        print(div)\n",
        "        pass\n",
        "\n",
        "n1=eval(input('Enter  1st number: '))\n",
        "n2=eval(input('Enter  2nd number: '))\n",
        "\n",
        "obj = Calculator(n1,n2)\n",
        "obj.add()\n",
        "obj.subtract()\n",
        "obj.multiply()\n",
        "obj.divide()\n",
        "  "
      ],
      "metadata": {
        "id": "Fp9VWNsgZcbC",
        "colab": {
          "base_uri": "https://localhost:8080/"
        },
        "outputId": "9f2b8a86-ec1c-4047-e2ca-a9f72830d4f7"
      },
      "execution_count": null,
      "outputs": [
        {
          "output_type": "stream",
          "name": "stdout",
          "text": [
            "Enter  1st number: 10\n",
            "Enter  2nd number: 94\n",
            "104\n",
            "84\n",
            "940\n",
            "9.4\n"
          ]
        }
      ]
    },
    {
      "cell_type": "markdown",
      "source": [
        "# **Challenge 3: Implement the Complete Student Class**"
      ],
      "metadata": {
        "id": "AGJBCCpc5esG"
      }
    },
    {
      "cell_type": "code",
      "source": [
        "class Student:\n",
        "\n",
        "    def setName(self,__name):\n",
        "        self.__name=__name\n",
        "        pass\n",
        "    def getName(self):\n",
        "        print(self.__name)\n",
        "        pass\n",
        "    def setRollNumber(self,__rollNumber):\n",
        "        self.__rollNumber=__rollNumber\n",
        "        pass\n",
        "    def getRollNumber(self):\n",
        "        print(self.__rollNumber)\n",
        "        pass\n",
        "  \n",
        "student=Student()\n",
        "student.setName('Minu')\n",
        "student.getName()\n",
        "student.setRollNumber('1')\n",
        "student.getRollNumber()\n"
      ],
      "metadata": {
        "id": "vuzZPm9DZcgp",
        "colab": {
          "base_uri": "https://localhost:8080/"
        },
        "outputId": "7837712d-a467-471c-b7fb-224378cfc758"
      },
      "execution_count": null,
      "outputs": [
        {
          "output_type": "stream",
          "name": "stdout",
          "text": [
            "Minu\n",
            "1\n"
          ]
        }
      ]
    },
    {
      "cell_type": "markdown",
      "source": [
        "# **Challenge 4: Implement a Banking Account**"
      ],
      "metadata": {
        "id": "vu_b7CidQbDW"
      }
    },
    {
      "cell_type": "code",
      "source": [
        "class Account:\n",
        "\n",
        "    def __init__(self,title=None,Balance=0):\n",
        "        self.title=title\n",
        "        self.Balance=Balance\n",
        "        pass\n",
        "\n",
        "class SavingsAccount(Account):\n",
        "\n",
        "    def __init__(self,title,Balance,interestRate):\n",
        "        super().__init__(title,Balance)\n",
        "        self.interestRate=interestRate\n",
        "        pass\n",
        "\n",
        "obj=Account('Ashish',5000)\n",
        "obj1=SavingsAccount(\"Ashish\", 5000, 5)"
      ],
      "metadata": {
        "id": "tS8EJHvsZcjI"
      },
      "execution_count": null,
      "outputs": []
    },
    {
      "cell_type": "markdown",
      "source": [
        "# **Challenge 5: Handling a Bank Account**"
      ],
      "metadata": {
        "id": "Gh9tmEb0OxfD"
      }
    },
    {
      "cell_type": "code",
      "source": [
        "class Account:\n",
        "    def __init__(self, title=None, balance=0):\n",
        "        self.title = title\n",
        "        self.balance = balance\n",
        "    \n",
        "    def withdrawal(self, amount):\n",
        "        self.balance=self.balance-amount\n",
        "        pass\n",
        "\n",
        "\n",
        "    def deposit(self, amount):\n",
        "        self.balance=amount+self.balance\n",
        "        pass\n",
        "    def getBalance(self):\n",
        "        return self.balance\n",
        "        pass\n",
        "\n",
        "class SavingsAccount(Account):\n",
        "    def __init__(self, title=None, balance=0, interestRate=0):\n",
        "            super().__init__(title, balance)\n",
        "            self.interestRate = interestRate\n",
        "    \n",
        "    def interestAmount(self):\n",
        "        int_amt=(self.interestRate*self.balance)/100\n",
        "        return int_amt\n",
        "        pass\n",
        "\n",
        "# obj=Account('Ashish',2000)\n",
        "# obj.deposit(500)\n",
        "# obj.getBalance()\n",
        "\n",
        "# obj.withdrawal(500)\n",
        "# obj.getBalance()\n",
        "\n",
        "demo1 = SavingsAccount(\"Ashish\", 2000, 5)\n",
        "print(demo1.interestAmount())"
      ],
      "metadata": {
        "id": "ZMHNbVsJZclw",
        "colab": {
          "base_uri": "https://localhost:8080/"
        },
        "outputId": "2dcefdd6-1a45-42ee-ddb6-e24386f4cf30"
      },
      "execution_count": null,
      "outputs": [
        {
          "output_type": "stream",
          "name": "stdout",
          "text": [
            "100.0\n"
          ]
        }
      ]
    }
  ]
}
