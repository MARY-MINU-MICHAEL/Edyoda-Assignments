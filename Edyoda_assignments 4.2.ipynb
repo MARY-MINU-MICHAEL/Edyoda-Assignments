{
  "nbformat": 4,
  "nbformat_minor": 0,
  "metadata": {
    "colab": {
      "provenance": []
    },
    "kernelspec": {
      "name": "python3",
      "display_name": "Python 3"
    },
    "language_info": {
      "name": "python"
    }
  },
  "cells": [
    {
      "cell_type": "code",
      "source": [
        "def triple(x):\n",
        "  y=x*3\n",
        "  return y\n",
        "a=[1,2,3,4,5,6,7]\n"
      ],
      "metadata": {
        "id": "mGGC75aOAz8D"
      },
      "execution_count": 7,
      "outputs": []
    },
    {
      "cell_type": "code",
      "source": [
        "b=list(map(triple,a))\n",
        "print(b)"
      ],
      "metadata": {
        "colab": {
          "base_uri": "https://localhost:8080/"
        },
        "id": "xR6eb60XCE5f",
        "outputId": "587f5db0-1177-499f-c420-ad825ba9b83c"
      },
      "execution_count": 8,
      "outputs": [
        {
          "output_type": "stream",
          "name": "stdout",
          "text": [
            "[3, 6, 9, 12, 15, 18, 21]\n"
          ]
        }
      ]
    }
  ]
}
