{
  "nbformat": 4,
  "nbformat_minor": 0,
  "metadata": {
    "colab": {
      "provenance": []
    },
    "kernelspec": {
      "name": "python3",
      "display_name": "Python 3"
    },
    "language_info": {
      "name": "python"
    }
  },
  "cells": [
    {
      "cell_type": "code",
      "source": [
        "#Write a Python program to count the number of even and odd numbers from a series of numbers.\n",
        "\n",
        "n=input('Enter a series of numbers: ').split(',')\n",
        "count1=0\n",
        "count2=0\n",
        "for i in n:\n",
        "  if(int(i)%2==0):\n",
        "    count1+=1\n",
        "  else:\n",
        "    count2+=1\n",
        "\n",
        "print('Number of even numbers: ',count1)\n",
        "print('Number of odd numbers: ',count2)\n",
        "\n"
      ],
      "metadata": {
        "colab": {
          "base_uri": "https://localhost:8080/"
        },
        "id": "YB4CS6xltkDc",
        "outputId": "74800fb1-b142-4761-9108-0f4854695002"
      },
      "execution_count": 42,
      "outputs": [
        {
          "output_type": "stream",
          "name": "stdout",
          "text": [
            "Enter a series of numbers: 1,2,3,4,5,6,7,8,9\n",
            "Number of even numbers:  4\n",
            "Number of odd numbers:  5\n"
          ]
        }
      ]
    }
  ]
}
