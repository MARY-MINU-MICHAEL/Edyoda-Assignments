{
  "nbformat": 4,
  "nbformat_minor": 0,
  "metadata": {
    "colab": {
      "provenance": []
    },
    "kernelspec": {
      "name": "python3",
      "display_name": "Python 3"
    },
    "language_info": {
      "name": "python"
    }
  },
  "cells": [
    {
      "cell_type": "markdown",
      "source": [
        "Write a Python program to triple all numbers of a given list of integers. Use Python map"
      ],
      "metadata": {
        "id": "SbxDnyORNJzb"
      }
    },
    {
      "cell_type": "code",
      "source": [
        "l=[]\n",
        "a=int(input('Enter number of elements in list:'))\n",
        "for i in range(a):\n",
        "  l.append(int(input()))\n",
        "print(l)"
      ],
      "metadata": {
        "id": "p_K5F0vbGXjz",
        "colab": {
          "base_uri": "https://localhost:8080/"
        },
        "outputId": "fe8ffaa5-c070-441e-a7af-ef154b0c6c5e"
      },
      "execution_count": 17,
      "outputs": [
        {
          "output_type": "stream",
          "name": "stdout",
          "text": [
            "Enter number of elements in list:7\n",
            "1\n",
            "2\n",
            "3\n",
            "4\n",
            "5\n",
            "6\n",
            "7\n",
            "[1, 2, 3, 4, 5, 6, 7]\n"
          ]
        }
      ]
    },
    {
      "cell_type": "code",
      "source": [
        "def triple(x):\n",
        "  y=x*3\n",
        "  return y"
      ],
      "metadata": {
        "id": "m1w3JAPsK-5Z"
      },
      "execution_count": 18,
      "outputs": []
    },
    {
      "cell_type": "code",
      "source": [
        "b=list(map(triple,l))\n",
        "print(b)"
      ],
      "metadata": {
        "colab": {
          "base_uri": "https://localhost:8080/"
        },
        "id": "4c0GQSpCMUM-",
        "outputId": "a5a164be-510f-4bb5-e1e9-3a7d972c295d"
      },
      "execution_count": 19,
      "outputs": [
        {
          "output_type": "stream",
          "name": "stdout",
          "text": [
            "[3, 6, 9, 12, 15, 18, 21]\n"
          ]
        }
      ]
    }
  ]
}