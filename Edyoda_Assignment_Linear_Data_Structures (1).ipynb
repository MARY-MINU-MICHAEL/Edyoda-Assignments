{
 "cells": [
  {
   "cell_type": "code",
   "execution_count": 1,
   "metadata": {
    "colab": {
     "base_uri": "https://localhost:8080/"
    },
    "id": "Pjy5oQBHQ-OB",
    "outputId": "4520ef6d-26c4-4091-ca10-0f66309514e4"
   },
   "outputs": [
    {
     "name": "stdout",
     "output_type": "stream",
     "text": [
      "sum of 2 and 1 is 3\n",
      "None\n"
     ]
    }
   ],
   "source": [
    "#Q1. Write a program to find all pairs of an integer array whose sum is equal to a given number?\n",
    "def pair(array,sum):\n",
    "    l=len(array)\n",
    "    for i in range(l):\n",
    "        for j in range(i,l):        \n",
    "            s=array[i]+array[j]\n",
    "            if s==sum:\n",
    "                print(f'sum of {array[i]} and {array[j]} is {s}')\n",
    "\n",
    "class Array:\n",
    "    def __init__(self):\n",
    "        self.array=[]     \n",
    "    def insertion_at_pos(self,data,pos):\n",
    "        self.array.insert(pos,data)\n",
    "        return self.array\n",
    "       \n",
    "s=Array()\n",
    "s.insertion_at_pos(5,0)\n",
    "s.insertion_at_pos(2,1)\n",
    "s.insertion_at_pos(3,2)\n",
    "s.insertion_at_pos(4,3)\n",
    "s.insertion_at_pos(1,4)\n",
    "s.insertion_at_pos(6,5)\n",
    "\n",
    "print(pair(s.array,3))"
   ]
  },
  {
   "cell_type": "code",
   "execution_count": 3,
   "metadata": {
    "colab": {
     "base_uri": "https://localhost:8080/"
    },
    "id": "ZSbtiZeRRHB1",
    "outputId": "1b63b2a1-b009-4d75-d63d-8166b224c907"
   },
   "outputs": [
    {
     "name": "stdout",
     "output_type": "stream",
     "text": [
      "6 ,1 ,4 ,3 ,2 ,5 ,None\n"
     ]
    }
   ],
   "source": [
    "#Q2. Write a program to reverse an array in place? In place means you cannot create a new array. You have to update the original array.\n",
    "\n",
    "def rev(a):\n",
    "    l=len(a)\n",
    "    for i in range(l-1,-1,-1):\n",
    "        print(a[i],end=' ,')\n",
    "        \n",
    "class Array:\n",
    "    def __init__(self):\n",
    "        self.array=[]     \n",
    "    def insertion_at_pos(self,data,pos):\n",
    "        self.array.insert(pos,data)\n",
    "        return self.array\n",
    "       \n",
    "s=Array()\n",
    "s.insertion_at_pos(5,0)\n",
    "s.insertion_at_pos(2,1)\n",
    "s.insertion_at_pos(3,2)\n",
    "s.insertion_at_pos(4,3)\n",
    "s.insertion_at_pos(1,4)\n",
    "s.insertion_at_pos(6,5)\n",
    "\n",
    "print(rev(s.array))"
   ]
  },
  {
   "cell_type": "code",
   "execution_count": 4,
   "metadata": {
    "colab": {
     "base_uri": "https://localhost:8080/"
    },
    "id": "MxpYKv6XRJxb",
    "outputId": "d427e423-b100-436e-b5b2-59159b7b5476"
   },
   "outputs": [
    {
     "name": "stdout",
     "output_type": "stream",
     "text": [
      "doydE is not a rotation of Edyoda\n"
     ]
    }
   ],
   "source": [
    "#Q3. Write a program to check if two strings are a rotation of each other?\n",
    "\n",
    "s1='Edyoda'\n",
    "s2='doydE'\n",
    "l1=[]\n",
    "for i in s1:    \n",
    "    l1.append(i)\n",
    "\n",
    "l2=[]\n",
    "for j in range(len(s2)-1,-1,-1):\n",
    "        l2.append(s2[j])\n",
    "\n",
    "if l1==l2:\n",
    "    print(f'{s2} is a rotation of {s1}')\n",
    "else:\n",
    "    print(f'{s2} is not a rotation of {s1}')"
   ]
  },
  {
   "cell_type": "code",
   "execution_count": 5,
   "metadata": {
    "colab": {
     "base_uri": "https://localhost:8080/"
    },
    "id": "N6Zj7VbIRTnX",
    "outputId": "d775e768-dddf-4f64-a93a-fd24611c7b0b"
   },
   "outputs": [
    {
     "name": "stdout",
     "output_type": "stream",
     "text": [
      "The first non repeated character in the string is o\n"
     ]
    }
   ],
   "source": [
    "#Q4. Write a program to print the first non-repeated character from a string?\n",
    "\n",
    "def rep(string):\n",
    "    #making a list containing repeated values\n",
    "    k=[]\n",
    "    for i in range(len(s)):  \n",
    "        for j in range(i+1,len(s)):       \n",
    "            if s[i]==s[j]:\n",
    "                k.append(s[i]) \n",
    "\n",
    "    #making a list containing all of the elements in the string\n",
    "    n=[]\n",
    "    for i in s:    \n",
    "        n.append(i)\n",
    "\n",
    "    # making function to make set capable of maintining the order of the elements in the list when it is converted to a set\n",
    "    def unique(sequence):\n",
    "        seen = set()\n",
    "        return [x for x in sequence if not (x in seen or seen.add(x))]\n",
    "\n",
    "    #making a list with unique values\n",
    "    l=unique(n)\n",
    "    p=list(l)\n",
    "\n",
    "    #removing the repeated values from the list\n",
    "    for i in k:\n",
    "        p.remove(i)\n",
    "    #printing the non repeated valaues\n",
    "    for j in range(len(p)):\n",
    "        return f'The first non repeated character in the string is {p[j]}'\n",
    "        break\n",
    "\n",
    "s='aaouLpkk'\n",
    "print(rep(s))   \n",
    "        "
   ]
  },
  {
   "cell_type": "code",
   "execution_count": 6,
   "metadata": {
    "colab": {
     "base_uri": "https://localhost:8080/"
    },
    "id": "tjGMrkfcRXBw",
    "outputId": "f5257a7d-98a4-43c3-a842-54a99104de90"
   },
   "outputs": [
    {
     "name": "stdout",
     "output_type": "stream",
     "text": [
      "Move disk 1 from rod A to rod B\n",
      "Move disk 2 from rod A to rod B\n",
      "Move disk 1 from rod C to rod A\n",
      "Move disk 3 from rod A to rod B\n",
      "Move disk 1 from rod C to rod A\n",
      "Move disk 2 from rod C to rod A\n",
      "Move disk 1 from rod B to rod C\n"
     ]
    }
   ],
   "source": [
    "#Q5. Read about the Tower of Hanoi algorithm. Write a program to implement it.\n",
    "def TowerOfHanoi(n,from_rod,aux_rod,to_rod):\n",
    "    if n == 0:\n",
    "        return\n",
    "    TowerOfHanoi(n-1, from_rod, aux_rod, to_rod)\n",
    "    print(\"Move disk\", n, \"from rod\", from_rod, \"to rod\", to_rod)\n",
    "    TowerOfHanoi(n-1, aux_rod, to_rod, from_rod)\n",
    "\n",
    "N = 3\n",
    "  \n",
    "TowerOfHanoi(N, 'A', 'C', 'B')"
   ]
  },
  {
   "cell_type": "code",
   "execution_count": 7,
   "metadata": {
    "colab": {
     "base_uri": "https://localhost:8080/"
    },
    "id": "l2jQANR0Rc9N",
    "outputId": "58d2afc3-bffa-4f0a-da30-7df47f51a243"
   },
   "outputs": [
    {
     "name": "stdout",
     "output_type": "stream",
     "text": [
      "Enter the postfix to convert to prefix: AB+CD-\n",
      "Prefix:  +AB-CD\n"
     ]
    }
   ],
   "source": [
    "#Q6. Read about infix, prefix, and postfix expressions.\n",
    "#Write a program to convert postfix to prefix expression.\n",
    "\n",
    "\n",
    "postfix=input('Enter the postfix to convert to prefix: ')\n",
    "\n",
    "def isoperator(c):\n",
    "    if c == \"*\" or c == \"+\" or c == \"-\" or c == \"/\" or c == \"^\" or c == \"(\" or c == \")\":\n",
    "        return True\n",
    "    else:\n",
    "        return False\n",
    "\n",
    "\n",
    "def posttopre(post_exp):\n",
    "    s = []\n",
    "    length = len(post_exp)\n",
    "    for i in range(length):\n",
    "        if (isoperator(post_exp[i])):\n",
    "            op1 = s[-1]\n",
    "            s.pop()\n",
    "            op2 = s[-1]\n",
    "            s.pop()\n",
    "            temp = post_exp[i] + op2 + op1\n",
    "            s.append(temp)\n",
    "        else:\n",
    "            s.append(post_exp[i])\n",
    "            \n",
    "    ans = \"\"\n",
    "    for i in s:\n",
    "        ans += i\n",
    "    return ans\n",
    "\n",
    "print('Prefix: ',posttopre(postfix))\n"
   ]
  },
  {
   "cell_type": "code",
   "execution_count": 8,
   "metadata": {
    "colab": {
     "base_uri": "https://localhost:8080/"
    },
    "id": "Xmzm5JcWRfZX",
    "outputId": "440ceaca-0f3a-424a-99ed-e9562f35b7a1"
   },
   "outputs": [
    {
     "name": "stdout",
     "output_type": "stream",
     "text": [
      "Enter the prefix to convert to infix: *-A/BC-/AKL\n",
      "Infix: ((A-(B/C))*((A/K)-L))\n"
     ]
    }
   ],
   "source": [
    "#Q7. Write a program to convert prefix expression to infix expression.\n",
    "\n",
    "prefix=input('Enter the prefix to convert to infix: ')\n",
    "def prefixToInfix(prefix):\n",
    "    stack = []\n",
    "\n",
    "    i = len(prefix) - 1\n",
    "    while i >= 0:\n",
    "        if not isOperator(prefix[i]):\n",
    "\n",
    "            stack.append(prefix[i])\n",
    "            i -= 1\n",
    "        else:\n",
    "\n",
    "            str = \"(\" + stack.pop() + prefix[i] + stack.pop() + \")\"\n",
    "            stack.append(str)\n",
    "            i -= 1\n",
    "     \n",
    "    return stack.pop()\n",
    " \n",
    "def isOperator(c):\n",
    "    if c == \"*\" or c == \"+\" or c == \"-\" or c == \"/\" or c == \"^\" or c == \"(\" or c == \")\":\n",
    "        return True\n",
    "    else:\n",
    "        return False\n",
    " \n",
    "print('Infix:', prefixToInfix(prefix))"
   ]
  },
  {
   "cell_type": "code",
   "execution_count": 9,
   "metadata": {
    "colab": {
     "base_uri": "https://localhost:8080/"
    },
    "id": "iSyCfL5dR48a",
    "outputId": "b88a490b-9ad1-4012-b2a1-9a7fcc105ff4"
   },
   "outputs": [
    {
     "name": "stdout",
     "output_type": "stream",
     "text": [
      "Enter the code snippet to check if it is closed: [][\n",
      "Not Balanced\n"
     ]
    }
   ],
   "source": [
    "#Q8. Write a program to check if all the brackets are closed in a given code snippet.\n",
    "def areBracketsBalanced(expr):\n",
    "    stack = []\n",
    "    for char in expr:\n",
    "        if char in [\"(\", \"{\", \"[\"]:           \n",
    "            stack.append(char)\n",
    "        else:\n",
    "            if not stack:\n",
    "                return False\n",
    "            current_char = stack.pop()\n",
    "            if current_char == '(':\n",
    "                if char != \")\":\n",
    "                    return False\n",
    "            if current_char == '{':\n",
    "                if char != \"}\":\n",
    "                    return False\n",
    "            if current_char == '[':\n",
    "                if char != \"]\":\n",
    "                    return False\n",
    "    if stack:\n",
    "        return False\n",
    "    \n",
    "    return True\n",
    " \n",
    "\n",
    "expr = input('Enter the code snippet to check if it is closed: ')\n",
    "\n",
    "# Function call\n",
    "if areBracketsBalanced(expr):\n",
    "    print(\"Balanced\")\n",
    "else:\n",
    "    print(\"Not Balanced\")"
   ]
  },
  {
   "cell_type": "code",
   "execution_count": 11,
   "metadata": {
    "colab": {
     "base_uri": "https://localhost:8080/"
    },
    "id": "yAhb7JNlSKwd",
    "outputId": "bfbd6d04-8f2d-441e-c9b2-d0d10cd9ca00"
   },
   "outputs": [
    {
     "name": "stdout",
     "output_type": "stream",
     "text": [
      "Original Stack\n",
      "5\n",
      "4\n",
      "3\n",
      "2\n",
      "1\n",
      "\n",
      "Stack after Reversing\n",
      "1\n",
      "2\n",
      "3\n",
      "4\n",
      "5\n"
     ]
    }
   ],
   "source": [
    "#Q9. Write a program to reverse a stack.\n",
    "class Stack:\n",
    "    def __init__(self):\n",
    "    self.array=[]\n",
    "\n",
    "    def push(self,data):\n",
    "    self.array.append(data)\n",
    "    \n",
    "    def pop(self):\n",
    "        if len(self.array)==0:\n",
    "        return 'stack is empty'\n",
    "    return self.array.pop()\n",
    "\n",
    "    def empty(self):\n",
    "        return self.array == []\n",
    "\n",
    "    def show(self):\n",
    "        for value in reversed(self.array):\n",
    "            print(value)\n",
    "\n",
    "def BottomInsert(s, value):\n",
    "    if s.empty():  \n",
    "        s.push(value)\n",
    "        \n",
    "    else:\n",
    "        popped = s.pop()\n",
    "        \n",
    "        BottomInsert(s, value)\n",
    "        s.push(popped)\n",
    "def Reverse(s): \n",
    "\n",
    "    if s.empty():\n",
    "        pass\n",
    "    else:\n",
    "        popped = s.pop()\n",
    "        \n",
    "        Reverse(s)\n",
    "        BottomInsert(s, popped)\n",
    "\n",
    "# create object of stack class\n",
    "s = Stack()\n",
    " \n",
    "s.push(1)\n",
    "s.push(2)\n",
    "s.push(3)\n",
    "s.push(4)\n",
    "s.push(5)\n",
    " \n",
    "print(\"Original Stack\")\n",
    "s.show()\n",
    " \n",
    "print(\"\\nStack after Reversing\")\n",
    "Reverse(s)\n",
    "s.show()"
   ]
  },
  {
   "cell_type": "code",
   "execution_count": 10,
   "metadata": {
    "colab": {
     "base_uri": "https://localhost:8080/"
    },
    "id": "VsuVhszCSXt8",
    "outputId": "b3eafbb0-8c09-4084-ae07-28552bdfa37d"
   },
   "outputs": [
    {
     "name": "stdout",
     "output_type": "stream",
     "text": [
      "-3\n",
      "0\n",
      "-2\n"
     ]
    }
   ],
   "source": [
    "#Q10. Write a program to find the smallest number using a stack.\n",
    "class MinStack(object):\n",
    "    min=float('inf')\n",
    "    def __init__(self):\n",
    "        self.min=float('inf')\n",
    "        self.stack = []\n",
    "    def push(self, x):\n",
    "        if x<=self.min:\n",
    "            self.stack.append(self.min)\n",
    "            self.min = x\n",
    "        self.stack.append(x)\n",
    "    def pop(self):\n",
    "        t = self.stack[-1]\n",
    "        self.stack.pop()\n",
    "        if self.min == t:\n",
    "            self.min = self.stack[-1]\n",
    "            self.stack.pop()\n",
    "    def top(self):\n",
    "        return self.stack[-1]\n",
    "    def getMin(self):\n",
    "        return self.min\n",
    "m = MinStack()\n",
    "m.push(-2)\n",
    "m.push(0)\n",
    "m.push(-3)\n",
    "print(m.getMin())\n",
    "m.pop()\n",
    "print(m.top())\n",
    "print(m.getMin())\n"
   ]
  }
 ],
 "metadata": {
  "colab": {
   "provenance": []
  },
  "kernelspec": {
   "display_name": "Python 3 (ipykernel)",
   "language": "python",
   "name": "python3"
  },
  "language_info": {
   "codemirror_mode": {
    "name": "ipython",
    "version": 3
   },
   "file_extension": ".py",
   "mimetype": "text/x-python",
   "name": "python",
   "nbconvert_exporter": "python",
   "pygments_lexer": "ipython3",
   "version": "3.9.13"
  }
 },
 "nbformat": 4,
 "nbformat_minor": 1
}
