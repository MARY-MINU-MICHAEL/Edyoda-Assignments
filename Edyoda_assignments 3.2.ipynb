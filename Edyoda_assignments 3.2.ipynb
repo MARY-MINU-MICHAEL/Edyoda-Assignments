{
  "nbformat": 4,
  "nbformat_minor": 0,
  "metadata": {
    "colab": {
      "provenance": []
    },
    "kernelspec": {
      "name": "python3",
      "display_name": "Python 3"
    },
    "language_info": {
      "name": "python"
    }
  },
  "cells": [
    {
      "cell_type": "code",
      "source": [
        "#Write a Python program to reverse a string.\n",
        "def rev(s):\n",
        "  l=len(s)\n",
        "  for i in reversed(range(l)):\n",
        "    print(s[i],end='')\n",
        "\n",
        "rev('1234abcd')"
      ],
      "metadata": {
        "colab": {
          "base_uri": "https://localhost:8080/"
        },
        "id": "QDeV_LvuV3na",
        "outputId": "a99fc141-d2d9-4da6-f92d-d04fe45d4f8a"
      },
      "execution_count": 110,
      "outputs": [
        {
          "output_type": "stream",
          "name": "stdout",
          "text": [
            "dcba4321"
          ]
        }
      ]
    }
  ]
}
