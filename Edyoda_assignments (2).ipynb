{
  "nbformat": 4,
  "nbformat_minor": 0,
  "metadata": {
    "colab": {
      "provenance": []
    },
    "kernelspec": {
      "name": "python3",
      "display_name": "Python 3"
    },
    "language_info": {
      "name": "python"
    }
  },
  "cells": [
    {
      "cell_type": "code",
      "source": [
        "#Write a Python program that accepts a word from the user and reverse it.\n",
        "n=input('Enter a name: ')\n",
        "print(n[-1::-1])\n"
      ],
      "metadata": {
        "colab": {
          "base_uri": "https://localhost:8080/"
        },
        "id": "YB4CS6xltkDc",
        "outputId": "08cf42f1-2412-4aba-93f0-69718ccfac36"
      },
      "execution_count": 35,
      "outputs": [
        {
          "output_type": "stream",
          "name": "stdout",
          "text": [
            "Enter a name: Edyoda\n",
            "adoydE\n"
          ]
        }
      ]
    }
  ]
}